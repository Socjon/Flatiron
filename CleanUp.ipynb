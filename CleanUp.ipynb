{
 "cells": [
  {
   "cell_type": "markdown",
   "metadata": {},
   "source": [
    "# Learn.co CleanUp\n",
    "\n",
    "There is two reasons to do this:\n",
    "\n",
    "**A)** You want a nice `github` repo where you can quickly look through all your lessons. Who doesn't want that?\n",
    "\n",
    "**B)** Your local file structure is a mess. You saved some stuff over here. You saved some stuff over there. Then you went in a new direction with a naming scheme.\n",
    "\n",
    "`git` has its own idea of nested file structure. It uses _**submodules**_ to reference different repos. The following code automates the process of adding all the lessons you have done to a single `github` repo. \n",
    "\n",
    "A side effect of adding a `submodule` to a repo is that `git` clones that file to your local machine again, creating a set of redundant files. Once you are done with this process, the choice is yours of what files you wish to keep locally. If you are inclined to keep the the organizational structure introduced here, feel free. Otherwise, just delete the recently cloned files.\n",
    "\n",
    "___"
   ]
  },
  {
   "cell_type": "markdown",
   "metadata": {},
   "source": [
    "## 1) Fork the Repo and Rename it.\n",
    "\n",
    "The first step fork this repo and renamed it. It will act as a table of contents for all of the Learn.co lessons.\n",
    "\n",
    "\n",
    "<img src = imgs/fork.png style=\"height: 500px; width:700px; resize:both\">\n",
    "\n",
    "<br>\n",
    "\n",
    "Now title your repo as you wish.\n",
    "\n",
    "<img src = imgs/rename.png style=\"height:500px\">\n",
    "\n",
    "<br>\n",
    "\n",
    "Now clone this file to your machine."
   ]
  },
  {
   "cell_type": "markdown",
   "metadata": {},
   "source": [
    "## 2) Download the HTML of Learn.co \n",
    "\n",
    "When logged in from main landing page of Learn.co, download the HTML of this page. Save this file in the repo we created during Step 1.\n",
    "\n",
    "<img src=imgs/html_save.png>\n",
    "\n",
    "<br>\n",
    "\n",
    "Congratulations, the hard work is done."
   ]
  },
  {
   "cell_type": "markdown",
   "metadata": {},
   "source": [
    "## 3) Run Some Cells"
   ]
  },
  {
   "cell_type": "code",
   "execution_count": 1,
   "metadata": {},
   "outputs": [],
   "source": [
    "import re\n",
    "import time\n",
    "import webbrowser\n",
    "import subprocess, shlex\n",
    "from bs4 import BeautifulSoup"
   ]
  },
  {
   "cell_type": "code",
   "execution_count": 2,
   "metadata": {},
   "outputs": [],
   "source": [
    "with open('Learn - Data Science Career v1.1.html','r') as f:  #Make sure this file matches the name of HTML file you just saved.\n",
    "    html = f.read()\n",
    "soup = BeautifulSoup(html, \"html.parser\")"
   ]
  },
  {
   "cell_type": "code",
   "execution_count": 3,
   "metadata": {},
   "outputs": [],
   "source": [
    "chunk = str(soup('script',{'type' : 'text/javascript'}))\n",
    "#chunk"
   ]
  },
  {
   "cell_type": "markdown",
   "metadata": {},
   "source": [
    "The information we want is in a javascript block. Uncomment above to see what it is.  \n",
    "Instead of bringing in any more libraries, we will tackle this problem with our `regex` knowhow. "
   ]
  },
  {
   "cell_type": "markdown",
   "metadata": {},
   "source": [
    "### RegEx"
   ]
  },
  {
   "cell_type": "code",
   "execution_count": 4,
   "metadata": {},
   "outputs": [],
   "source": [
    "pattern = re.compile(r\"learn-co-curriculum/d.*?(?=\\\")\") #make a pattern object\n",
    "repo_names = pattern.findall(chunk)"
   ]
  },
  {
   "cell_type": "markdown",
   "metadata": {},
   "source": [
    "Uncomment the cell below to what we collected."
   ]
  },
  {
   "cell_type": "code",
   "execution_count": 5,
   "metadata": {},
   "outputs": [],
   "source": [
    "#repo_names[:10]"
   ]
  },
  {
   "cell_type": "markdown",
   "metadata": {},
   "source": [
    "## Personalize the URLs"
   ]
  },
  {
   "cell_type": "code",
   "execution_count": 6,
   "metadata": {},
   "outputs": [],
   "source": [
    "cohort = 'online-ds-pt-100118' #Enter your cohort as a string\n",
    "github = 'https://github.com/Socjon/' #Enter your github URL. Be sure to include a trailing backslash"
   ]
  },
  {
   "cell_type": "code",
   "execution_count": 7,
   "metadata": {},
   "outputs": [],
   "source": [
    "mod_full_urls = {'mod_1': [],\n",
    "                 'mod_2': [],\n",
    "                 'mod_3': [],\n",
    "                 'mod_4': [],}\n",
    "\n",
    "for name in repo_names:\n",
    "    name = name.lstrip('learn-co-curriculum/')\n",
    "    \n",
    "    if name.startswith('dsc-1-') or name.startswith('dsc-00-') or name.startswith('dsc-01-'):\n",
    "        mod_full_urls['mod_1'].append(github + name + '-' + cohort)\n",
    "    \n",
    "    elif name.startswith('dsc-2-'):\n",
    "        mod_full_urls['mod_2'].append(github + name + '-' + cohort)\n",
    "        \n",
    "    elif name.startswith('dsc-3-'):\n",
    "        mod_full_urls['mod_3'].append(github + name + '-' + cohort)\n",
    "        \n",
    "    elif name.startswith('dsc-4-') or name.startswith(f'dsc-04-'):\n",
    "        mod_full_urls['mod_4'].append(github + name + '-' + cohort)"
   ]
  },
  {
   "cell_type": "markdown",
   "metadata": {},
   "source": [
    "## Section Names\n",
    "\n",
    "I provided a list of section names, keep in mind this is for the V1.1 circ. If you go to scrapping the new list, be warned of inconsistencies in naming schemes. Some cleaning is required."
   ]
  },
  {
   "cell_type": "code",
   "execution_count": 8,
   "metadata": {},
   "outputs": [],
   "source": [
    "section_list = ['01-getting-started-with-data-science',\n",
    " '02-importing-and-statistical-analysis-of-data',\n",
    " '03-working-with-pandas',\n",
    " '04-data-cleaning-in-pandas',\n",
    " '05-sql-and-relational-databases',\n",
    " '06-object-oriented-programming',\n",
    " '07-oop-continued',\n",
    " '08-numpy-and-foundations-of-probability-and-combinatorics',\n",
    " '09-statistical-distributions',\n",
    " '10-introduction-to-linear-regression',\n",
    " '11-multiple-regression-and-model-validation',\n",
    " '12-a-complete-data-science-project-using-multiple-regression',\n",
    " '13-linear-algebra',\n",
    " '14-calculus-cost-function-and-gradient-descent',\n",
    " '15-an-introduction-to-orms',\n",
    " '16-working-with-json-and-xml',\n",
    " '17-accessing-data-through-apis',\n",
    " '18-html-css-and-web-scraping',\n",
    " '19-distributions-and-sampling',\n",
    " '20-hypothesis-and-ab-testing',\n",
    " '21-combinatorics-continued-and-maximum-likelihood-estimation',\n",
    " '22-bayesian-classification',\n",
    " '23-resampling-and-monte-carlo-simulation',\n",
    " '24-extensions-to-linear-models',\n",
    " '25-time-series-visualization-and-testing-for-trends',\n",
    " '26-time-series-modeling',\n",
    " '27-distance-metrics-and-k-nearest-neighbors',\n",
    " '28-graph-theory',\n",
    " '29-introduction-to-logistic-regression',\n",
    " '30-logistic-regression-in-depth-mle-and-gradient-descent',\n",
    " '31-decision-trees',\n",
    " '32-ensemble-methods',\n",
    " '33-support-vector-machines',\n",
    " '34-dimensionality-reduction-with-pca',\n",
    " '35-clustering',\n",
    " '36-building-a-machine-learning-pipeline',\n",
    " '37-foundations-of-natural-language-processing-nlp',\n",
    " '38-big-data-in-pyspark',\n",
    " '39-developing-a-recommendation-system-in-pyspark',\n",
    " '40-introduction-to-deep-learning',\n",
    " '41-multi-layer-perceptrons',\n",
    " '42-regularization-and-optimization',\n",
    " '43-introduction-to-convolutional-neural-networks',\n",
    " '44-convolutional-neural-networks-continued',\n",
    " '45-deep-nlp-word-embeddings',\n",
    " '46-deep-nlp-sequence-models']"
   ]
  },
  {
   "cell_type": "markdown",
   "metadata": {},
   "source": [
    "# Interacting with the OS\n",
    "\n",
    "___\n",
    "___\n",
    "\n",
    "Below are two functions. The first function takes a Learn URL, identifies the section is belongs to, and returns the full section name.  \n",
    "\n",
    "The second function is the workhorse of this notebook. It takes in two arguments: `mod_number` as an integer and `url_dict` which is the dictionary we created earlier. The function then creates the proper directories for both the module and section, then adds the lessons as submodules. Finally it will return a list of URLs of lessons that were not cloned.  \n",
    "\n",
    "This process works only work with one module at a time and takes a few minutes to run. An output will display for each of the URLs being added."
   ]
  },
  {
   "cell_type": "code",
   "execution_count": 9,
   "metadata": {},
   "outputs": [],
   "source": [
    "def section_name(url):   #Takes in the URL and returns the section as a string\n",
    "    \n",
    "    name = None          #Resets the name variable\n",
    "    \n",
    "    to_remove = len(github) + 4     #Github names are variable. The 4 is removing \"dsc-\" \n",
    "    to_check = url[to_remove:]\n",
    "    \n",
    "    if to_check.startswith('0'):    #Checks for the leading zero and removes it, if that is the case\n",
    "        to_check = to_check[1:]\n",
    "    \n",
    "    section_num = to_check[2:4]     #Isolates the section number as a string\n",
    "    \n",
    "    for section in section_list:    #Loops through section list\n",
    "        \n",
    "        if section.startswith(section_num) == True:\n",
    "            name = section\n",
    "            break\n",
    "        \n",
    "    if name == None:\n",
    "        name = 'Project'\n",
    "    \n",
    "    return name"
   ]
  },
  {
   "cell_type": "code",
   "execution_count": 10,
   "metadata": {},
   "outputs": [],
   "source": [
    "def add_submodule(mod_number, url_dict):\n",
    "    \n",
    "    valid = [1,2,3,4]\n",
    "    if mod_number not in valid:\n",
    "        raise ValueError(f\"results: mod_number must be either {valid}.\")\n",
    "        \n",
    "    to_fork = []\n",
    "    mod_name = 'Module_' + str(mod_number)                          \n",
    "    mod_dict = mod_full_urls[f'mod_' + str(mod_number)]             \n",
    "    \n",
    "    subprocess.run(f'mkdir {mod_name}', shell=True)               #Makes the module directory\n",
    "    time.sleep(1)                                                 #Don't use (shell=True) lightly #https://stackoverflow.com/questions/3172470/actual-meaning-of-shell-true-in-subprocess\n",
    "\n",
    "\n",
    "    \n",
    "    for url in mod_full_urls['mod_2'][:15]:\n",
    "        name = section_name(url)\n",
    "        subprocess.run(f'mkdir {name}', shell=True, cwd = f'{mod_name}')\n",
    "        time.sleep(1)\n",
    "        \n",
    "        \n",
    "        command = f'git submodule add {url}'                        #Iterate over the URL dictionary we created before and adds them as submodules.\n",
    "        kwargs = {}\n",
    "        kwargs['stdout'] = subprocess.PIPE\n",
    "        kwargs['stderr'] = subprocess.PIPE\n",
    "        proc = subprocess.Popen(shlex.split(command), **kwargs, cwd = f'{mod_name}/{name}')\n",
    "        (stdout_str, stderr_str) = proc.communicate()\n",
    "        return_code = proc.wait()\n",
    "        #print (stdout_str)\n",
    "        #print (stderr_str)\n",
    "    \n",
    "    \n",
    "        to_check = stderr_str.decode('utf-8')                     #Changing the terminal output from btye to str\n",
    "        print(to_check)                                           #Prints status updates --optional\n",
    "        pattern = 'fatal'                                         #Making a patter to loop through and find all the non exsistant URLs\n",
    "        if to_check.find(pattern) > 0:\n",
    "            to_fork.append(url)\n",
    "                \n",
    "    commands = [\"git commit -m 'adding a submodule'\", \"git push\"]    #Pushing all the changes\n",
    "    for command in commands:\n",
    "        subprocess.Popen(shlex.split(command))\n",
    "    \n",
    "    print('Go create the following')\n",
    "    print(to_fork)\n",
    "    return(to_fork)"
   ]
  },
  {
   "cell_type": "code",
   "execution_count": 11,
   "metadata": {},
   "outputs": [
    {
     "name": "stdout",
     "output_type": "stream",
     "text": [
      "Cloning into 'C:/Users/J/DS/Flatiron/Module_2/13-linear-algebra/dsc-2-13-02-introduction-summary-online-ds-pt-100118'...\n",
      "remote: Repository not found.\n",
      "fatal: repository 'https://github.com/Socjon/dsc-2-13-02-introduction-summary-online-ds-pt-100118/' not found\n",
      "fatal: clone of 'https://github.com/Socjon/dsc-2-13-02-introduction-summary-online-ds-pt-100118' into submodule path 'C:/Users/J/DS/Flatiron/Module_2/13-linear-algebra/dsc-2-13-02-introduction-summary-online-ds-pt-100118' failed\n",
      "\n",
      "Cloning into 'C:/Users/J/DS/Flatiron/Module_2/13-linear-algebra/dsc-2-13-03-lingalg-motivation-online-ds-pt-100118'...\n",
      "remote: Repository not found.\n",
      "fatal: repository 'https://github.com/Socjon/dsc-2-13-03-lingalg-motivation-online-ds-pt-100118/' not found\n",
      "fatal: clone of 'https://github.com/Socjon/dsc-2-13-03-lingalg-motivation-online-ds-pt-100118' into submodule path 'C:/Users/J/DS/Flatiron/Module_2/13-linear-algebra/dsc-2-13-03-lingalg-motivation-online-ds-pt-100118' failed\n",
      "\n",
      "Cloning into 'C:/Users/J/DS/Flatiron/Module_2/13-linear-algebra/dsc-2-13-04-lingalg-linear-equations-online-ds-pt-100118'...\n",
      "remote: Repository not found.\n",
      "fatal: repository 'https://github.com/Socjon/dsc-2-13-04-lingalg-linear-equations-online-ds-pt-100118/' not found\n",
      "fatal: clone of 'https://github.com/Socjon/dsc-2-13-04-lingalg-linear-equations-online-ds-pt-100118' into submodule path 'C:/Users/J/DS/Flatiron/Module_2/13-linear-algebra/dsc-2-13-04-lingalg-linear-equations-online-ds-pt-100118' failed\n",
      "\n",
      "Cloning into 'C:/Users/J/DS/Flatiron/Module_2/13-linear-algebra/dsc-2-13-05-lingalg-linear-equations-quiz-online-ds-pt-100118'...\n",
      "remote: Repository not found.\n",
      "fatal: repository 'https://github.com/Socjon/dsc-2-13-05-lingalg-linear-equations-quiz-online-ds-pt-100118/' not found\n",
      "fatal: clone of 'https://github.com/Socjon/dsc-2-13-05-lingalg-linear-equations-quiz-online-ds-pt-100118' into submodule path 'C:/Users/J/DS/Flatiron/Module_2/13-linear-algebra/dsc-2-13-05-lingalg-linear-equations-quiz-online-ds-pt-100118' failed\n",
      "\n",
      "'Module_2/13-linear-algebra/dsc-2-13-06-linalg-scalars-vectors-matrices-tensors-codealong-online-ds-pt-100118' already exists in the index\n",
      "\n",
      "'Module_2/13-linear-algebra/dsc-2-13-07-linalg-vector-addition-codealong-online-ds-pt-100118' already exists in the index\n",
      "\n",
      "'Module_2/13-linear-algebra/dsc-2-13-08-linalg-vector-matrices-numpy-lab-online-ds-pt-100118' already exists in the index\n",
      "\n",
      "Cloning into 'C:/Users/J/DS/Flatiron/Module_2/13-linear-algebra/dsc-2-13-09-linalg-mat-multiplication-codealong-online-ds-pt-100118'...\n",
      "remote: Repository not found.\n",
      "fatal: repository 'https://github.com/Socjon/dsc-2-13-09-linalg-mat-multiplication-codealong-online-ds-pt-100118/' not found\n",
      "fatal: clone of 'https://github.com/Socjon/dsc-2-13-09-linalg-mat-multiplication-codealong-online-ds-pt-100118' into submodule path 'C:/Users/J/DS/Flatiron/Module_2/13-linear-algebra/dsc-2-13-09-linalg-mat-multiplication-codealong-online-ds-pt-100118' failed\n",
      "\n",
      "'Module_2/13-linear-algebra/dsc-2-13-10-linalg-dot-product-properties-lab-online-ds-pt-100118' already exists in the index\n",
      "\n",
      "'Module_2/13-linear-algebra/dsc-2-13-11-linalg-python-vs-numpy-lab-online-ds-pt-100118' already exists in the index\n",
      "\n",
      "'Module_2/13-linear-algebra/dsc-2-13-12-linalg-lineq-numpy-codealong-online-ds-pt-100118' already exists in the index\n",
      "\n",
      "'Module_2/13-linear-algebra/dsc-2-13-13-linalg-lineq-numpy-lab-online-ds-pt-100118' already exists in the index\n",
      "\n",
      "Cloning into 'C:/Users/J/DS/Flatiron/Module_2/13-linear-algebra/dsc-2-13-14-linalg-regression-codealong-online-ds-pt-100118'...\n",
      "remote: Repository not found.\n",
      "fatal: repository 'https://github.com/Socjon/dsc-2-13-14-linalg-regression-codealong-online-ds-pt-100118/' not found\n",
      "fatal: clone of 'https://github.com/Socjon/dsc-2-13-14-linalg-regression-codealong-online-ds-pt-100118' into submodule path 'C:/Users/J/DS/Flatiron/Module_2/13-linear-algebra/dsc-2-13-14-linalg-regression-codealong-online-ds-pt-100118' failed\n",
      "\n",
      "'Module_2/13-linear-algebra/dsc-2-13-15-linalg-regression-lab-online-ds-pt-100118' already exists in the index\n",
      "\n",
      "Cloning into 'C:/Users/J/DS/Flatiron/Module_2/13-linear-algebra/dsc-2-13-16-computational-complexity-online-ds-pt-100118'...\n",
      "remote: Repository not found.\n",
      "fatal: repository 'https://github.com/Socjon/dsc-2-13-16-computational-complexity-online-ds-pt-100118/' not found\n",
      "fatal: clone of 'https://github.com/Socjon/dsc-2-13-16-computational-complexity-online-ds-pt-100118' into submodule path 'C:/Users/J/DS/Flatiron/Module_2/13-linear-algebra/dsc-2-13-16-computational-complexity-online-ds-pt-100118' failed\n",
      "\n",
      "Go create the following\n",
      "['https://github.com/Socjon/dsc-2-13-02-introduction-summary-online-ds-pt-100118', 'https://github.com/Socjon/dsc-2-13-03-lingalg-motivation-online-ds-pt-100118', 'https://github.com/Socjon/dsc-2-13-04-lingalg-linear-equations-online-ds-pt-100118', 'https://github.com/Socjon/dsc-2-13-05-lingalg-linear-equations-quiz-online-ds-pt-100118', 'https://github.com/Socjon/dsc-2-13-09-linalg-mat-multiplication-codealong-online-ds-pt-100118', 'https://github.com/Socjon/dsc-2-13-14-linalg-regression-codealong-online-ds-pt-100118', 'https://github.com/Socjon/dsc-2-13-16-computational-complexity-online-ds-pt-100118']\n"
     ]
    }
   ],
   "source": [
    "to_fork = add_submodule(2, mod_full_urls)   #Input the module number and the url dictionary."
   ]
  },
  {
   "cell_type": "markdown",
   "metadata": {},
   "source": [
    "## Helper Function\n",
    "After running the above cell, there may be some Learn lessons that you didn't fork: Section Recaps, Introductions, etc.  \n",
    "\n",
    "I have included a helper function to open all the URLS that need to be cloned before the above needs to be run again. Once they have been forked, just rerun the above cell to add them as `submodules`.\n",
    "   "
   ]
  },
  {
   "cell_type": "code",
   "execution_count": 12,
   "metadata": {},
   "outputs": [],
   "source": [
    "#to_fork"
   ]
  },
  {
   "cell_type": "code",
   "execution_count": 13,
   "metadata": {},
   "outputs": [],
   "source": [
    "def let_there_be_tabs(url_list):\n",
    "    learn = 'https://github.com/learn-co-students/'\n",
    "    for url in url_list:\n",
    "        webbrowser.open(url.replace(github, learn))"
   ]
  },
  {
   "cell_type": "markdown",
   "metadata": {},
   "source": [
    "Uncomment below to run the function"
   ]
  },
  {
   "cell_type": "code",
   "execution_count": 14,
   "metadata": {},
   "outputs": [],
   "source": [
    "let_there_be_tabs(to_fork)"
   ]
  }
 ],
 "metadata": {
  "kernelspec": {
   "display_name": "Python 3",
   "language": "python",
   "name": "python3"
  },
  "language_info": {
   "codemirror_mode": {
    "name": "ipython",
    "version": 3
   },
   "file_extension": ".py",
   "mimetype": "text/x-python",
   "name": "python",
   "nbconvert_exporter": "python",
   "pygments_lexer": "ipython3",
   "version": "3.6.7"
  },
  "toc": {
   "base_numbering": 1,
   "nav_menu": {},
   "number_sections": true,
   "sideBar": true,
   "skip_h1_title": false,
   "title_cell": "Table of Contents",
   "title_sidebar": "Contents",
   "toc_cell": true,
   "toc_position": {},
   "toc_section_display": true,
   "toc_window_display": false
  }
 },
 "nbformat": 4,
 "nbformat_minor": 2
}
